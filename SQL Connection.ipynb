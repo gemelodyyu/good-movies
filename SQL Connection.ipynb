{
 "cells": [
  {
   "cell_type": "code",
   "execution_count": 1,
   "metadata": {},
   "outputs": [],
   "source": [
    "import psycopg2\n",
    "import json"
   ]
  },
  {
   "cell_type": "code",
   "execution_count": 2,
   "metadata": {},
   "outputs": [],
   "source": [
    "conn = psycopg2.connect(\n",
    "    host =\"datavizgroup7.c0yvlavqskus.us-west-2.rds.amazonaws.com\",\n",
    "    dbname=\"postgres\",\n",
    "    user=\"postgres\",\n",
    "    password=\"sealab2021\")"
   ]
  },
  {
   "cell_type": "code",
   "execution_count": 3,
   "metadata": {},
   "outputs": [],
   "source": [
    "cursor = conn.cursor()"
   ]
  },
  {
   "cell_type": "code",
   "execution_count": 4,
   "metadata": {},
   "outputs": [
    {
     "data": {
      "text/plain": [
       "10"
      ]
     },
     "execution_count": 4,
     "metadata": {},
     "output_type": "execute_result"
    }
   ],
   "source": [
    "cursor.execute(\"SELECT * FROM movie_meta LIMIT 10\")\n",
    "cursor.rowcount"
   ]
  },
  {
   "cell_type": "code",
   "execution_count": 5,
   "metadata": {},
   "outputs": [],
   "source": [
    "columns = ('id', 'title', 'release_date', 'runtime', 'genres', 'adult', 'budget', 'revenue','production companies',\n",
    "        'imdb_id')"
   ]
  },
  {
   "cell_type": "code",
   "execution_count": 6,
   "metadata": {},
   "outputs": [],
   "source": [
    "results = []\n",
    "for row in cursor.fetchall():\n",
    "    results.append(dict(zip(columns,row)))"
   ]
  },
  {
   "cell_type": "code",
   "execution_count": 8,
   "metadata": {},
   "outputs": [
    {
     "name": "stdout",
     "output_type": "stream",
     "text": [
      "[{\"id\": 862, \"title\": \"Toy Story\", \"release_date\": \"1995-10-30\", \"runtime\": 81.0, \"genres\": \"[{'id': 16, 'name': 'Animation'}, {'id': 35, 'name': 'Comedy'}, {'id': 10751, 'name': 'Family'}]\", \"adult\": false, \"budget\": 30000000, \"revenue\": 373554033.0, \"production companies\": \"[{'name': 'Pixar Animation Studios', 'id': 3}]\", \"imdb_id\": \"[{'iso_3166_1': 'US', 'name': 'United States of America'}]\"}, {\"id\": 8844, \"title\": \"Jumanji\", \"release_date\": \"1995-12-15\", \"runtime\": 104.0, \"genres\": \"[{'id': 12, 'name': 'Adventure'}, {'id': 14, 'name': 'Fantasy'}, {'id': 10751, 'name': 'Family'}]\", \"adult\": false, \"budget\": 65000000, \"revenue\": 262797249.0, \"production companies\": \"[{'name': 'TriStar Pictures', 'id': 559}, {'name': 'Teitler Film', 'id': 2550}, {'name': 'Interscope Communications', 'id': 10201}]\", \"imdb_id\": \"[{'iso_3166_1': 'US', 'name': 'United States of America'}]\"}, {\"id\": 31357, \"title\": \"Waiting to Exhale\", \"release_date\": \"1995-12-22\", \"runtime\": 127.0, \"genres\": \"[{'id': 35, 'name': 'Comedy'}, {'id': 18, 'name': 'Drama'}, {'id': 10749, 'name': 'Romance'}]\", \"adult\": false, \"budget\": 16000000, \"revenue\": 81452156.0, \"production companies\": \"[{'name': 'Twentieth Century Fox Film Corporation', 'id': 306}]\", \"imdb_id\": \"[{'iso_3166_1': 'US', 'name': 'United States of America'}]\"}, {\"id\": 11862, \"title\": \"Father of the Bride Part II\", \"release_date\": \"1995-02-10\", \"runtime\": 106.0, \"genres\": \"[{'id': 35, 'name': 'Comedy'}]\", \"adult\": false, \"budget\": 0, \"revenue\": 76578911.0, \"production companies\": \"[{'name': 'Sandollar Productions', 'id': 5842}, {'name': 'Touchstone Pictures', 'id': 9195}]\", \"imdb_id\": \"[{'iso_3166_1': 'US', 'name': 'United States of America'}]\"}, {\"id\": 949, \"title\": \"Heat\", \"release_date\": \"1995-12-15\", \"runtime\": 170.0, \"genres\": \"[{'id': 28, 'name': 'Action'}, {'id': 80, 'name': 'Crime'}, {'id': 18, 'name': 'Drama'}, {'id': 53, 'name': 'Thriller'}]\", \"adult\": false, \"budget\": 60000000, \"revenue\": 187436818.0, \"production companies\": \"[{'name': 'Regency Enterprises', 'id': 508}, {'name': 'Forward Pass', 'id': 675}, {'name': 'Warner Bros.', 'id': 6194}]\", \"imdb_id\": \"[{'iso_3166_1': 'US', 'name': 'United States of America'}]\"}, {\"id\": 9091, \"title\": \"Sudden Death\", \"release_date\": \"1995-12-22\", \"runtime\": 106.0, \"genres\": \"[{'id': 28, 'name': 'Action'}, {'id': 12, 'name': 'Adventure'}, {'id': 53, 'name': 'Thriller'}]\", \"adult\": false, \"budget\": 35000000, \"revenue\": 64350171.0, \"production companies\": \"[{'name': 'Universal Pictures', 'id': 33}, {'name': 'Imperial Entertainment', 'id': 21437}, {'name': 'Signature Entertainment', 'id': 23770}]\", \"imdb_id\": \"[{'iso_3166_1': 'US', 'name': 'United States of America'}]\"}, {\"id\": 710, \"title\": \"GoldenEye\", \"release_date\": \"1995-11-16\", \"runtime\": 130.0, \"genres\": \"[{'id': 12, 'name': 'Adventure'}, {'id': 28, 'name': 'Action'}, {'id': 53, 'name': 'Thriller'}]\", \"adult\": false, \"budget\": 58000000, \"revenue\": 352194034.0, \"production companies\": \"[{'name': 'United Artists', 'id': 60}, {'name': 'Eon Productions', 'id': 7576}]\", \"imdb_id\": \"[{'iso_3166_1': 'GB', 'name': 'United Kingdom'}, {'iso_3166_1': 'US', 'name': 'United States of America'}]\"}, {\"id\": 9087, \"title\": \"The American President\", \"release_date\": \"1995-11-17\", \"runtime\": 106.0, \"genres\": \"[{'id': 35, 'name': 'Comedy'}, {'id': 18, 'name': 'Drama'}, {'id': 10749, 'name': 'Romance'}]\", \"adult\": false, \"budget\": 62000000, \"revenue\": 107879496.0, \"production companies\": \"[{'name': 'Columbia Pictures', 'id': 5}, {'name': 'Castle Rock Entertainment', 'id': 97}]\", \"imdb_id\": \"[{'iso_3166_1': 'US', 'name': 'United States of America'}]\"}, {\"id\": 21032, \"title\": \"Balto\", \"release_date\": \"1995-12-22\", \"runtime\": 78.0, \"genres\": \"[{'id': 10751, 'name': 'Family'}, {'id': 16, 'name': 'Animation'}, {'id': 12, 'name': 'Adventure'}]\", \"adult\": false, \"budget\": 0, \"revenue\": 11348324.0, \"production companies\": \"[{'name': 'Universal Pictures', 'id': 33}, {'name': 'Amblin Entertainment', 'id': 56}, {'name': 'Amblimation', 'id': 4105}]\", \"imdb_id\": \"[{'iso_3166_1': 'US', 'name': 'United States of America'}]\"}, {\"id\": 10858, \"title\": \"Nixon\", \"release_date\": \"1995-12-22\", \"runtime\": 192.0, \"genres\": \"[{'id': 36, 'name': 'History'}, {'id': 18, 'name': 'Drama'}]\", \"adult\": false, \"budget\": 44000000, \"revenue\": 13681765.0, \"production companies\": \"[{'name': 'Hollywood Pictures', 'id': 915}, {'name': 'Cinergi Pictures Entertainment', 'id': 1504}]\", \"imdb_id\": \"[{'iso_3166_1': 'US', 'name': 'United States of America'}]\"}]\n"
     ]
    }
   ],
   "source": [
    "#, sort_keys=False\n",
    "\n",
    "films = json.dumps(results, default=str)\n",
    "print(films)"
   ]
  },
  {
   "cell_type": "code",
   "execution_count": null,
   "metadata": {},
   "outputs": [],
   "source": [
    "# QUESTION: How do we make this in a json/usable format? And where should this \"pulling data from server\" file go?\n",
    "# ANSWER: This file pulls data in flask app, returns jsonified films variable to be used in javascript files\n",
    "\n",
    "rows = cursor.fetchall()\n",
    "print(rows)"
   ]
  },
  {
   "cell_type": "code",
   "execution_count": null,
   "metadata": {},
   "outputs": [],
   "source": [
    "for row in rows:\n",
    "    print(row)"
   ]
  },
  {
   "cell_type": "code",
   "execution_count": null,
   "metadata": {},
   "outputs": [],
   "source": [
    "print(rows[0])"
   ]
  },
  {
   "cell_type": "code",
   "execution_count": null,
   "metadata": {},
   "outputs": [],
   "source": [
    "films = json.dumps(list(rows), sort_keys=False, default=str)"
   ]
  },
  {
   "cell_type": "code",
   "execution_count": null,
   "metadata": {},
   "outputs": [],
   "source": [
    "print(films)"
   ]
  },
  {
   "cell_type": "code",
   "execution_count": null,
   "metadata": {},
   "outputs": [],
   "source": []
  }
 ],
 "metadata": {
  "kernelspec": {
   "display_name": "Python 3",
   "language": "python",
   "name": "python3"
  },
  "language_info": {
   "codemirror_mode": {
    "name": "ipython",
    "version": 3
   },
   "file_extension": ".py",
   "mimetype": "text/x-python",
   "name": "python",
   "nbconvert_exporter": "python",
   "pygments_lexer": "ipython3",
   "version": "3.7.6"
  }
 },
 "nbformat": 4,
 "nbformat_minor": 4
}
